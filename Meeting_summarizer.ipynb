{
 "cells": [
  {
   "cell_type": "code",
   "execution_count": null,
   "metadata": {},
   "outputs": [],
   "source": [
    "#pip install torch\n",
    "#pip install torchvision\n",
    "#pip install torchaudio"
   ]
  },
  {
   "cell_type": "markdown",
   "metadata": {},
   "source": [
    "Step1: Import data from the google sheet"
   ]
  },
  {
   "cell_type": "markdown",
   "metadata": {},
   "source": [
    "1. pip install google-api-python-client \n",
    "2. pip install google-auth-httplib2 \n",
    "3. pip install google-auth-oauthlib \n",
    "4. pip install gspread"
   ]
  },
  {
   "cell_type": "code",
   "execution_count": 26,
   "metadata": {},
   "outputs": [],
   "source": [
    "import gspread\n",
    "from google.oauth2.service_account import Credentials\n",
    "import pandas as pd"
   ]
  },
  {
   "cell_type": "code",
   "execution_count": 27,
   "metadata": {},
   "outputs": [],
   "source": [
    "#Defining score - in this case this is a google sheet\n",
    "scopes  = [\"https://www.googleapis.com/auth/spreadsheets\"]\n",
    "\n",
    "# Credentials to access the gsheet, we have define scope in scopes\n",
    "creds = Credentials.from_service_account_file(\"credentials.json\",scopes=scopes) \n",
    "client = gspread.authorize(creds)"
   ]
  },
  {
   "cell_type": "code",
   "execution_count": 28,
   "metadata": {},
   "outputs": [],
   "source": [
    "# Open the workbook by its ID\n",
    "sheet_id = \"1hzPReAUH73ZtDqEbldRe-g4MyjfFH9ixoy8dfruPoXQ\"\n",
    "workbook = client.open_by_key(sheet_id)"
   ]
  },
  {
   "cell_type": "code",
   "execution_count": 35,
   "metadata": {},
   "outputs": [],
   "source": [
    "sheet = workbook.worksheet('Meeting_notes')\n",
    "values_list = sheet.get_all_values()\n",
    "df = pd.DataFrame(values_list[1:], columns=values_list[0])  # Use the first row as column names"
   ]
  },
  {
   "cell_type": "code",
   "execution_count": 37,
   "metadata": {},
   "outputs": [],
   "source": [
    "process_df = df[['Kitchen_name', 'House_name', 'Meeting_notes']]"
   ]
  },
  {
   "cell_type": "markdown",
   "metadata": {},
   "source": [
    "Step 2: User Transformer model to summarize notes based on the first column"
   ]
  },
  {
   "cell_type": "code",
   "execution_count": 40,
   "metadata": {},
   "outputs": [],
   "source": [
    "from transformers import pipeline"
   ]
  },
  {
   "cell_type": "code",
   "execution_count": 44,
   "metadata": {},
   "outputs": [],
   "source": [
    "# Group by 'Kitchen_name' and join the meeting notes\n",
    "grouped_notes = process_df.groupby('Kitchen_name')['Meeting_notes'].apply(lambda x: ' '.join(x)).reset_index()"
   ]
  },
  {
   "cell_type": "code",
   "execution_count": null,
   "metadata": {},
   "outputs": [],
   "source": [
    "# Load BART model for summarization\n",
    "summarizer = pipeline(\"summarization\", model=\"facebook/bart-large-cnn\")"
   ]
  },
  {
   "cell_type": "code",
   "execution_count": 71,
   "metadata": {},
   "outputs": [],
   "source": [
    "def summarize_meeting_notes(notes):\n",
    "    # Check if notes are empty\n",
    "    if not notes.strip():\n",
    "        return \"No notes available.\"\n",
    "    \n",
    "    # Chunking if the text is too long\n",
    "    max_input_length = 1024  # Adjust based on model requirements\n",
    "    summaries = []\n",
    "    \n",
    "    # Split into chunks based on the maximum input length\n",
    "    for i in range(0, len(notes), max_input_length):\n",
    "        chunk = notes[i:i + max_input_length]\n",
    "        \n",
    "        try:\n",
    "            # Summarize each chunk\n",
    "            summary = summarizer(chunk, max_length=50, min_length=10, do_sample=False)\n",
    "            summaries.append(summary[0]['summary_text'])\n",
    "        except Exception as e:\n",
    "            summaries.append(f\"Error summarizing: {str(e)}\")\n",
    "\n",
    "    # Join all summaries into a single text for further summarization\n",
    "    combined_summary = ' '.join(summaries)\n",
    "    \n",
    "    # Now create chunks for the final summarization if the combined summary is still too long\n",
    "    final_summaries = []\n",
    "    \n",
    "    for i in range(0, len(combined_summary), max_input_length):\n",
    "        final_chunk = combined_summary[i:i + max_input_length]\n",
    "        \n",
    "        try:\n",
    "            final_summary = summarizer(final_chunk, max_length=50, min_length=10, do_sample=False)\n",
    "            final_summaries.append(final_summary[0]['summary_text'])\n",
    "        except Exception as e:\n",
    "            final_summaries.append(f\"Error summarizing final chunk: {str(e)}\")\n",
    "\n",
    "    # Return the final condensed summary\n",
    "    return ' '.join(final_summaries)\n"
   ]
  },
  {
   "cell_type": "code",
   "execution_count": 72,
   "metadata": {},
   "outputs": [
    {
     "name": "stderr",
     "output_type": "stream",
     "text": [
      "Your max_length is set to 50, but your input_length is only 23. Since this is a summarization task, where outputs shorter than the input are typically wanted, you might consider decreasing max_length manually, e.g. summarizer('...', max_length=11)\n",
      "Your max_length is set to 50, but your input_length is only 47. Since this is a summarization task, where outputs shorter than the input are typically wanted, you might consider decreasing max_length manually, e.g. summarizer('...', max_length=23)\n",
      "Your max_length is set to 50, but your input_length is only 29. Since this is a summarization task, where outputs shorter than the input are typically wanted, you might consider decreasing max_length manually, e.g. summarizer('...', max_length=14)\n"
     ]
    }
   ],
   "source": [
    "# Apply summarization to the grouped meeting notes\n",
    "grouped_notes['Summarized_Notes'] = grouped_notes['Meeting_notes'].apply(summarize_meeting_notes)"
   ]
  },
  {
   "cell_type": "code",
   "execution_count": 73,
   "metadata": {},
   "outputs": [
    {
     "name": "stdout",
     "output_type": "stream",
     "text": [
      "                        Kitchen_name  \\\n",
      "0                Coimbatore Kitchenn   \n",
      "1                     Indore Kitchen   \n",
      "2  Kitchen - Greater Noida - Chicago   \n",
      "3                   SLC BLR RR Nagar   \n",
      "4                 SLC HYD Kukatpally   \n",
      "5                     SLC MAA Guindy   \n",
      "6                 SLC PUN Dhankawadi   \n",
      "7                SLC UDI Anant Nagar   \n",
      "8                     Zagreb Kitchen   \n",
      "\n",
      "                                    Summarized_Notes  \n",
      "0  The Food Service Operations Review focused on ...  \n",
      "1  The Food Feedback Meeting at Easton House focu...  \n",
      "2  Food Service Feedback and Planning Meeting at ...  \n",
      "3  The Food Feedback session at Salzburg House fo...  \n",
      "4  The Food Service Feedback Meeting at Dijon Hou...  \n",
      "5  Food Feedback meeting held at Essen House, Che...  \n",
      "6  Residents expressed a desire for a more varied...  \n",
      "7  Problem-solving and feedback session for Kilma...  \n",
      "8  The Food Service Feedback and Improvement Meet...  \n"
     ]
    }
   ],
   "source": [
    "# Display the result\n",
    "print(grouped_notes[['Kitchen_name', 'Summarized_Notes']])"
   ]
  },
  {
   "cell_type": "code",
   "execution_count": 74,
   "metadata": {},
   "outputs": [],
   "source": [
    "# Access the 'Kitchen_summary' tab\n",
    "summary_sheet = workbook.worksheet('Kitchen_summary')"
   ]
  },
  {
   "cell_type": "code",
   "execution_count": 75,
   "metadata": {},
   "outputs": [],
   "source": [
    "# Prepare data to append\n",
    "data_to_append = grouped_notes[['Kitchen_name', 'Summarized_Notes']].values.tolist()"
   ]
  },
  {
   "cell_type": "code",
   "execution_count": 76,
   "metadata": {},
   "outputs": [
    {
     "name": "stderr",
     "output_type": "stream",
     "text": [
      "C:\\Users\\Neeraj.Mehta\\AppData\\Local\\Temp\\ipykernel_23068\\4028896351.py:2: DeprecationWarning: The order of arguments in worksheet.update() has changed. Please pass values first and range_name secondor used named arguments (range_name=, values=)\n",
      "  summary_sheet.update('A1', [['Kitchen_name', 'Summarized_Notes']] + data_to_append)\n"
     ]
    },
    {
     "name": "stdout",
     "output_type": "stream",
     "text": [
      "Data successfully exported to Google Sheets!\n"
     ]
    }
   ],
   "source": [
    "# Update the sheet with new data, starting from cell A1\n",
    "summary_sheet.update('A1', [['Kitchen_name', 'Summarized_Notes']] + data_to_append)\n",
    "\n",
    "print(\"Data successfully exported to Google Sheets!\")"
   ]
  }
 ],
 "metadata": {
  "kernelspec": {
   "display_name": "food_cx",
   "language": "python",
   "name": "python3"
  },
  "language_info": {
   "codemirror_mode": {
    "name": "ipython",
    "version": 3
   },
   "file_extension": ".py",
   "mimetype": "text/x-python",
   "name": "python",
   "nbconvert_exporter": "python",
   "pygments_lexer": "ipython3",
   "version": "3.11.9"
  }
 },
 "nbformat": 4,
 "nbformat_minor": 2
}
